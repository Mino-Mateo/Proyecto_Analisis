{
 "cells": [
  {
   "cell_type": "code",
   "execution_count": null,
   "id": "aa6a2f97",
   "metadata": {},
   "outputs": [],
   "source": [
    "# Excel a CSV\n",
    "import pandas as pd\n",
    "\n",
    "excel_file = '../../Bases_Datos/Excel/covid-19_Muertes.xlsx'\n",
    "csv_file = '../../Bases_Datos/CSV/covid-19_Muertes.csv'\n",
    "df = pd.read_excel(excel_file)\n",
    "\n",
    "df.to_csv(csv_file, index=False)"
   ]
  }
 ],
 "metadata": {
  "kernelspec": {
   "display_name": "Python 3 (ipykernel)",
   "language": "python",
   "name": "python3"
  },
  "language_info": {
   "codemirror_mode": {
    "name": "ipython",
    "version": 3
   },
   "file_extension": ".py",
   "mimetype": "text/x-python",
   "name": "python",
   "nbconvert_exporter": "python",
   "pygments_lexer": "ipython3",
   "version": "3.8.0"
  }
 },
 "nbformat": 4,
 "nbformat_minor": 5
}
