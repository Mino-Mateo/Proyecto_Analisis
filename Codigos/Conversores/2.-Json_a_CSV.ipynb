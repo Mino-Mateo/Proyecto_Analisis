{
 "cells": [
  {
   "cell_type": "code",
   "execution_count": 1,
   "metadata": {},
   "outputs": [],
   "source": [
    "# Librerias\n",
    "import pandas as pd\n",
    "\n",
    "archivo_json = \"../Bases_Datos/Json/trasporte_ecuador_2015.json\"\n",
    "archivo_csv = \"../Bases_Datos/Json/trasporte_ecuador_2015.csv\"\n",
    "\n",
    "# Cargar el archivo JSON en un DataFrame de pandas\n",
    "df = pd.read_json(archivo_json)\n",
    "\n",
    "# Guardar el DataFrame en un archivo CSV\n",
    "df.to_csv(archivo_csv, index=False)"
   ]
  }
 ],
 "metadata": {
  "kernelspec": {
   "display_name": "Python 3",
   "language": "python",
   "name": "python3"
  },
  "language_info": {
   "codemirror_mode": {
    "name": "ipython",
    "version": 3
   },
   "file_extension": ".py",
   "mimetype": "text/x-python",
   "name": "python",
   "nbconvert_exporter": "python",
   "pygments_lexer": "ipython3",
   "version": "3.11.4"
  },
  "orig_nbformat": 4
 },
 "nbformat": 4,
 "nbformat_minor": 2
}
