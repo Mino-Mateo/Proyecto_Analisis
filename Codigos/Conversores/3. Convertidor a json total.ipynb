{
 "cells": [
  {
   "cell_type": "code",
   "execution_count": 9,
   "metadata": {},
   "outputs": [
    {
     "name": "stdout",
     "output_type": "stream",
     "text": [
      "El archivo CSV 'C:/Users/NITRO/Desktop/PASO EXTRA ANALISIS/Archivos a convertir/BF_Concert_2019-2020.csv' ha sido convertido exitosamente a JSON y guardado en 'BF_Concert_2019-2020.json'.\n"
     ]
    }
   ],
   "source": [
    "import os\n",
    "import json\n",
    "import csv\n",
    "\n",
    "# Función para convertir CSV a JSON\n",
    "def csv_to_json(csv_file_path):\n",
    "    data = []\n",
    "    with open(csv_file_path, \"r\", encoding=\"utf-8\") as csv_archivo:\n",
    "        csv_reader = csv.DictReader(csv_archivo)\n",
    "        for row in csv_reader:\n",
    "            data.append(row)\n",
    "    return data\n",
    "\n",
    "# Ruta de acceso del archivo CSV\n",
    "archivo_csv = \"C:/Users/NITRO/Desktop/PASO EXTRA ANALISIS/Archivos a convertir/BF_Concert_2019-2020.csv\"\n",
    "\n",
    "# Obtener el nombre del archivo CSV sin la extensión\n",
    "nombre_archivo_csv = os.path.splitext(os.path.basename(archivo_csv))[0]\n",
    "\n",
    "# Convertir CSV a JSON\n",
    "documentos_json = csv_to_json(archivo_csv)\n",
    "\n",
    "# Escribir la lista de diccionarios en un archivo JSON con el nombre del archivo CSV\n",
    "archivo_json = nombre_archivo_csv + \".json\"\n",
    "with open(archivo_json, \"w\", encoding=\"utf-8\") as json_file:\n",
    "    json.dump(documentos_json, json_file, indent=4)\n",
    "\n",
    "print(f\"El archivo CSV '{archivo_csv}' ha sido convertido exitosamente a JSON y guardado en '{archivo_json}'.\")\n",
    "\n"
   ]
  },
  {
   "cell_type": "code",
   "execution_count": 13,
   "metadata": {},
   "outputs": [
    {
     "name": "stdout",
     "output_type": "stream",
     "text": [
      "El archivo CSV 'C:/Users/NITRO/Desktop/PASO EXTRA ANALISIS/Archivos a convertir/Eventos o noticias mundiales.csv' ha sido convertido exitosamente a JSON y guardado en 'Eventos o noticias mundiales.json'.\n"
     ]
    }
   ],
   "source": [
    "import os\n",
    "import json\n",
    "import csv\n",
    "\n",
    "# Función para convertir CSV a JSON\n",
    "def csv_to_json(csv_file_path):\n",
    "    data = []\n",
    "    with open(csv_file_path, \"r\", encoding=\"utf-8\") as csv_archivo:\n",
    "        csv_reader = csv.DictReader(csv_archivo)\n",
    "        for row in csv_reader:\n",
    "            data.append(row)\n",
    "    return data\n",
    "\n",
    "# Ruta de acceso del archivo CSV\n",
    "archivo_csv = \"C:/Users/NITRO/Desktop/PASO EXTRA ANALISIS/Archivos a convertir/Eventos o noticias mundiales.csv\"\n",
    "\n",
    "# Obtener el nombre del archivo CSV sin la extensión\n",
    "nombre_archivo_csv = os.path.splitext(os.path.basename(archivo_csv))[0]\n",
    "\n",
    "# Convertir CSV a JSON\n",
    "documentos_json = csv_to_json(archivo_csv)\n",
    "\n",
    "# Escribir la lista de diccionarios en un archivo JSON con el nombre del archivo CSV\n",
    "archivo_json = nombre_archivo_csv + \".json\"\n",
    "with open(archivo_json, \"w\", encoding=\"utf-8\") as json_file:\n",
    "    json.dump(documentos_json, json_file, indent=4)\n",
    "\n",
    "print(f\"El archivo CSV '{archivo_csv}' ha sido convertido exitosamente a JSON y guardado en '{archivo_json}'.\")\n"
   ]
  },
  {
   "cell_type": "code",
   "execution_count": 14,
   "metadata": {},
   "outputs": [
    {
     "name": "stdout",
     "output_type": "stream",
     "text": [
      "El archivo CSV 'C:/Users/NITRO/Desktop/PASO EXTRA ANALISIS/Archivos a convertir/hobbylist.csv' ha sido convertido exitosamente a JSON y guardado en 'hobbylist.json'.\n"
     ]
    }
   ],
   "source": [
    "import os\n",
    "import json\n",
    "import csv\n",
    "\n",
    "# Función para convertir CSV a JSON\n",
    "def csv_to_json(csv_file_path):\n",
    "    data = []\n",
    "    with open(csv_file_path, \"r\", encoding=\"utf-8\") as csv_archivo:\n",
    "        csv_reader = csv.DictReader(csv_archivo)\n",
    "        for row in csv_reader:\n",
    "            data.append(row)\n",
    "    return data\n",
    "\n",
    "# Ruta de acceso del archivo CSV\n",
    "archivo_csv = \"C:/Users/NITRO/Desktop/PASO EXTRA ANALISIS/Archivos a convertir/hobbylist.csv\"\n",
    "\n",
    "# Obtener el nombre del archivo CSV sin la extensión\n",
    "nombre_archivo_csv = os.path.splitext(os.path.basename(archivo_csv))[0]\n",
    "\n",
    "# Convertir CSV a JSON\n",
    "documentos_json = csv_to_json(archivo_csv)\n",
    "\n",
    "# Escribir la lista de diccionarios en un archivo JSON con el nombre del archivo CSV\n",
    "archivo_json = nombre_archivo_csv + \".json\"\n",
    "with open(archivo_json, \"w\", encoding=\"utf-8\") as json_file:\n",
    "    json.dump(documentos_json, json_file, indent=4)\n",
    "\n",
    "print(f\"El archivo CSV '{archivo_csv}' ha sido convertido exitosamente a JSON y guardado en '{archivo_json}'.\")\n"
   ]
  },
  {
   "cell_type": "code",
   "execution_count": 15,
   "metadata": {},
   "outputs": [
    {
     "name": "stdout",
     "output_type": "stream",
     "text": [
      "El archivo CSV 'C:/Users/NITRO/Desktop/PASO EXTRA ANALISIS/Archivos a convertir/INEC_Estadísticas de Transporte_BDD_2014_2020.csv' ha sido convertido exitosamente a JSON y guardado en 'INEC_Estadísticas de Transporte_BDD_2014_2020.json'.\n"
     ]
    }
   ],
   "source": [
    "import os\n",
    "import json\n",
    "import csv\n",
    "\n",
    "# Función para convertir CSV a JSON\n",
    "def csv_to_json(csv_file_path):\n",
    "    data = []\n",
    "    with open(csv_file_path, \"r\", encoding=\"utf-8\") as csv_archivo:\n",
    "        csv_reader = csv.DictReader(csv_archivo)\n",
    "        for row in csv_reader:\n",
    "            data.append(row)\n",
    "    return data\n",
    "\n",
    "# Ruta de acceso del archivo CSV\n",
    "archivo_csv = \"C:/Users/NITRO/Desktop/PASO EXTRA ANALISIS/Archivos a convertir/INEC_Estadísticas de Transporte_BDD_2014_2020.csv\"\n",
    "\n",
    "# Obtener el nombre del archivo CSV sin la extensión\n",
    "nombre_archivo_csv = os.path.splitext(os.path.basename(archivo_csv))[0]\n",
    "\n",
    "# Convertir CSV a JSON\n",
    "documentos_json = csv_to_json(archivo_csv)\n",
    "\n",
    "# Escribir la lista de diccionarios en un archivo JSON con el nombre del archivo CSV\n",
    "archivo_json = nombre_archivo_csv + \".json\"\n",
    "with open(archivo_json, \"w\", encoding=\"utf-8\") as json_file:\n",
    "    json.dump(documentos_json, json_file, indent=4)\n",
    "\n",
    "print(f\"El archivo CSV '{archivo_csv}' ha sido convertido exitosamente a JSON y guardado en '{archivo_json}'.\")\n"
   ]
  },
  {
   "cell_type": "code",
   "execution_count": 16,
   "metadata": {},
   "outputs": [
    {
     "name": "stdout",
     "output_type": "stream",
     "text": [
      "El archivo CSV 'C:/Users/NITRO/Desktop/PASO EXTRA ANALISIS/Archivos a convertir/partidospoliticos.csv' ha sido convertido exitosamente a JSON y guardado en 'partidospoliticos.json'.\n"
     ]
    }
   ],
   "source": [
    "import os\n",
    "import json\n",
    "import csv\n",
    "\n",
    "# Función para convertir CSV a JSON\n",
    "def csv_to_json(csv_file_path):\n",
    "    data = []\n",
    "    with open(csv_file_path, \"r\", encoding=\"utf-8\") as csv_archivo:\n",
    "        csv_reader = csv.DictReader(csv_archivo)\n",
    "        for row in csv_reader:\n",
    "            data.append(row)\n",
    "    return data\n",
    "\n",
    "# Ruta de acceso del archivo CSV\n",
    "archivo_csv = \"C:/Users/NITRO/Desktop/PASO EXTRA ANALISIS/Archivos a convertir/partidospoliticos.csv\"\n",
    "\n",
    "# Obtener el nombre del archivo CSV sin la extensión\n",
    "nombre_archivo_csv = os.path.splitext(os.path.basename(archivo_csv))[0]\n",
    "\n",
    "# Convertir CSV a JSON\n",
    "documentos_json = csv_to_json(archivo_csv)\n",
    "\n",
    "# Escribir la lista de diccionarios en un archivo JSON con el nombre del archivo CSV\n",
    "archivo_json = nombre_archivo_csv + \".json\"\n",
    "with open(archivo_json, \"w\", encoding=\"utf-8\") as json_file:\n",
    "    json.dump(documentos_json, json_file, indent=4)\n",
    "\n",
    "print(f\"El archivo CSV '{archivo_csv}' ha sido convertido exitosamente a JSON y guardado en '{archivo_json}'.\")\n"
   ]
  },
  {
   "cell_type": "code",
   "execution_count": 17,
   "metadata": {},
   "outputs": [
    {
     "name": "stdout",
     "output_type": "stream",
     "text": [
      "El archivo CSV 'C:/Users/NITRO/Desktop/PASO EXTRA ANALISIS/Archivos a convertir/Restaurantes y sitios de esparcimiento.csv' ha sido convertido exitosamente a JSON y guardado en 'Restaurantes y sitios de esparcimiento.json'.\n"
     ]
    }
   ],
   "source": [
    "import os\n",
    "import json\n",
    "import csv\n",
    "\n",
    "# Función para convertir CSV a JSON\n",
    "def csv_to_json(csv_file_path):\n",
    "    data = []\n",
    "    with open(csv_file_path, \"r\", encoding=\"utf-8\") as csv_archivo:\n",
    "        csv_reader = csv.DictReader(csv_archivo)\n",
    "        for row in csv_reader:\n",
    "            data.append(row)\n",
    "    return data\n",
    "\n",
    "# Ruta de acceso del archivo CSV\n",
    "archivo_csv = \"C:/Users/NITRO/Desktop/PASO EXTRA ANALISIS/Archivos a convertir/Restaurantes y sitios de esparcimiento.csv\"\n",
    "\n",
    "# Obtener el nombre del archivo CSV sin la extensión\n",
    "nombre_archivo_csv = os.path.splitext(os.path.basename(archivo_csv))[0]\n",
    "\n",
    "# Convertir CSV a JSON\n",
    "documentos_json = csv_to_json(archivo_csv)\n",
    "\n",
    "# Escribir la lista de diccionarios en un archivo JSON con el nombre del archivo CSV\n",
    "archivo_json = nombre_archivo_csv + \".json\"\n",
    "with open(archivo_json, \"w\", encoding=\"utf-8\") as json_file:\n",
    "    json.dump(documentos_json, json_file, indent=4)\n",
    "\n",
    "print(f\"El archivo CSV '{archivo_csv}' ha sido convertido exitosamente a JSON y guardado en '{archivo_json}'.\")\n"
   ]
  },
  {
   "cell_type": "code",
   "execution_count": 30,
   "metadata": {},
   "outputs": [
    {
     "name": "stdout",
     "output_type": "stream",
     "text": [
      "El archivo CSV 'C:/Users/NITRO/Desktop/PASO EXTRA ANALISIS/Archivos a convertir/Sport_Events.csv' ha sido convertido exitosamente a JSON y guardado en 'Sport_Events.json'.\n"
     ]
    }
   ],
   "source": [
    "import os\n",
    "import json\n",
    "import csv\n",
    "\n",
    "# Función para convertir CSV a JSON\n",
    "def csv_to_json(csv_file_path):\n",
    "    data = []\n",
    "    with open(csv_file_path, \"r\", encoding=\"utf-8\") as csv_archivo:\n",
    "        csv_reader = csv.DictReader(csv_archivo)\n",
    "        for row in csv_reader:\n",
    "            data.append(row)\n",
    "    return data\n",
    "\n",
    "# Ruta de acceso del archivo CSV\n",
    "archivo_csv = \"C:/Users/NITRO/Desktop/PASO EXTRA ANALISIS/Archivos a convertir/Sport_Events.csv\"\n",
    "\n",
    "# Obtener el nombre del archivo CSV sin la extensión\n",
    "nombre_archivo_csv = os.path.splitext(os.path.basename(archivo_csv))[0]\n",
    "\n",
    "# Convertir CSV a JSON\n",
    "documentos_json = csv_to_json(archivo_csv)\n",
    "\n",
    "# Escribir la lista de diccionarios en un archivo JSON con el nombre del archivo CSV\n",
    "archivo_json = nombre_archivo_csv + \".json\"\n",
    "with open(archivo_json, \"w\", encoding=\"utf-8\") as json_file:\n",
    "    json.dump(documentos_json, json_file, indent=4)\n",
    "\n",
    "print(f\"El archivo CSV '{archivo_csv}' ha sido convertido exitosamente a JSON y guardado en '{archivo_json}'.\")\n"
   ]
  },
  {
   "cell_type": "code",
   "execution_count": 54,
   "metadata": {},
   "outputs": [
    {
     "name": "stdout",
     "output_type": "stream",
     "text": [
      "Requirement already satisfied: pandas in c:\\users\\nitro\\appdata\\local\\packages\\pythonsoftwarefoundation.python.3.11_qbz5n2kfra8p0\\localcache\\local-packages\\python311\\site-packages (2.0.3)\n",
      "Requirement already satisfied: python-dateutil>=2.8.2 in c:\\users\\nitro\\appdata\\local\\packages\\pythonsoftwarefoundation.python.3.11_qbz5n2kfra8p0\\localcache\\local-packages\\python311\\site-packages (from pandas) (2.8.2)\n",
      "Requirement already satisfied: pytz>=2020.1 in c:\\users\\nitro\\appdata\\local\\packages\\pythonsoftwarefoundation.python.3.11_qbz5n2kfra8p0\\localcache\\local-packages\\python311\\site-packages (from pandas) (2023.3)\n",
      "Requirement already satisfied: tzdata>=2022.1 in c:\\users\\nitro\\appdata\\local\\packages\\pythonsoftwarefoundation.python.3.11_qbz5n2kfra8p0\\localcache\\local-packages\\python311\\site-packages (from pandas) (2023.3)\n",
      "Requirement already satisfied: numpy>=1.21.0 in c:\\users\\nitro\\appdata\\local\\packages\\pythonsoftwarefoundation.python.3.11_qbz5n2kfra8p0\\localcache\\local-packages\\python311\\site-packages (from pandas) (1.25.0)\n",
      "Requirement already satisfied: six>=1.5 in c:\\users\\nitro\\appdata\\local\\packages\\pythonsoftwarefoundation.python.3.11_qbz5n2kfra8p0\\localcache\\local-packages\\python311\\site-packages (from python-dateutil>=2.8.2->pandas) (1.16.0)\n",
      "Note: you may need to restart the kernel to use updated packages.\n"
     ]
    },
    {
     "name": "stderr",
     "output_type": "stream",
     "text": [
      "\n",
      "[notice] A new release of pip is available: 23.1.2 -> 23.2.1\n",
      "[notice] To update, run: C:\\Users\\NITRO\\AppData\\Local\\Microsoft\\WindowsApps\\PythonSoftwareFoundation.Python.3.11_qbz5n2kfra8p0\\python.exe -m pip install --upgrade pip\n"
     ]
    }
   ],
   "source": [
    "pip install pandas\n"
   ]
  },
  {
   "cell_type": "code",
   "execution_count": 53,
   "metadata": {},
   "outputs": [
    {
     "name": "stdout",
     "output_type": "stream",
     "text": [
      "El archivo Excel 'C:/Users/NITRO/Desktop/PASO EXTRA ANALISIS/Archivos a convertir/covid-19_Muertes.xlsx' ha sido convertido exitosamente a JSON y guardado en 'covid-19_Muertes.json'.\n"
     ]
    }
   ],
   "source": [
    "import os\n",
    "import pandas as pd\n",
    "import json\n",
    "\n",
    "def xlsx_to_json(xlsx_file_path):\n",
    "    # Leer el archivo Excel en un DataFrame usando pandas\n",
    "    data = pd.read_excel(xlsx_file_path)\n",
    "\n",
    "    # Convertir el DataFrame a una lista de diccionarios\n",
    "    data_list = data.to_dict(orient='records')\n",
    "\n",
    "    return data_list\n",
    "\n",
    "# Ruta de acceso del archivo Excel (XLSX)\n",
    "archivo_xlsx = 'C:/Users/NITRO/Desktop/PASO EXTRA ANALISIS/Archivos a convertir/covid-19_Muertes.xlsx'\n",
    "\n",
    "# Convertir Excel a JSON\n",
    "documentos_json = xlsx_to_json(archivo_xlsx)\n",
    "\n",
    "# Escribir la lista de diccionarios en un archivo JSON con el nombre del archivo Excel\n",
    "nombre_archivo_json = os.path.splitext(os.path.basename(archivo_xlsx))[0] + \".json\"\n",
    "with open(nombre_archivo_json, \"w\", encoding=\"utf-8\") as json_file:\n",
    "    json.dump(documentos_json, json_file, indent=4, ensure_ascii=False)\n",
    "\n",
    "print(f\"El archivo Excel '{archivo_xlsx}' ha sido convertido exitosamente a JSON y guardado en '{nombre_archivo_json}'.\")\n",
    "\n"
   ]
  },
  {
   "cell_type": "code",
   "execution_count": 51,
   "metadata": {},
   "outputs": [
    {
     "name": "stdout",
     "output_type": "stream",
     "text": [
      "Collecting openpyxl\n",
      "  Downloading openpyxl-3.1.2-py2.py3-none-any.whl (249 kB)\n",
      "                                              0.0/250.0 kB ? eta -:--:--\n",
      "     ----                                    30.7/250.0 kB 1.4 MB/s eta 0:00:01\n",
      "     ------                                41.0/250.0 kB 393.8 kB/s eta 0:00:01\n",
      "     ----------------                     112.6/250.0 kB 819.2 kB/s eta 0:00:01\n",
      "     -------------------------            174.1/250.0 kB 958.1 kB/s eta 0:00:01\n",
      "     -------------------------------------- 250.0/250.0 kB 1.0 MB/s eta 0:00:00\n",
      "Collecting et-xmlfile (from openpyxl)\n",
      "  Downloading et_xmlfile-1.1.0-py3-none-any.whl (4.7 kB)\n",
      "Installing collected packages: et-xmlfile, openpyxl\n",
      "Successfully installed et-xmlfile-1.1.0 openpyxl-3.1.2\n",
      "Note: you may need to restart the kernel to use updated packages.\n"
     ]
    },
    {
     "name": "stderr",
     "output_type": "stream",
     "text": [
      "\n",
      "[notice] A new release of pip is available: 23.1.2 -> 23.2.1\n",
      "[notice] To update, run: C:\\Users\\NITRO\\AppData\\Local\\Microsoft\\WindowsApps\\PythonSoftwareFoundation.Python.3.11_qbz5n2kfra8p0\\python.exe -m pip install --upgrade pip\n"
     ]
    }
   ],
   "source": [
    "pip install openpyxl"
   ]
  },
  {
   "cell_type": "code",
   "execution_count": null,
   "metadata": {},
   "outputs": [],
   "source": []
  }
 ],
 "metadata": {
  "kernelspec": {
   "display_name": "Python 3",
   "language": "python",
   "name": "python3"
  },
  "language_info": {
   "codemirror_mode": {
    "name": "ipython",
    "version": 3
   },
   "file_extension": ".py",
   "mimetype": "text/x-python",
   "name": "python",
   "nbconvert_exporter": "python",
   "pygments_lexer": "ipython3",
   "version": "3.11.4"
  },
  "orig_nbformat": 4
 },
 "nbformat": 4,
 "nbformat_minor": 2
}
