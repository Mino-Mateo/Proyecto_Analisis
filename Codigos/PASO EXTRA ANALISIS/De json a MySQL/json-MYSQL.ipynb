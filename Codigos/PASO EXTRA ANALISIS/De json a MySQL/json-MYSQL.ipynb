{
 "cells": [
  {
   "cell_type": "code",
   "execution_count": 4,
   "metadata": {},
   "outputs": [
    {
     "name": "stdout",
     "output_type": "stream",
     "text": [
      "Collecting mysql-connector-python\n",
      "  Using cached mysql_connector_python-8.1.0-cp311-cp311-win_amd64.whl (10.8 MB)\n",
      "Collecting protobuf<=4.21.12,>=4.21.1 (from mysql-connector-python)\n",
      "  Using cached protobuf-4.21.12-cp310-abi3-win_amd64.whl (527 kB)\n",
      "Installing collected packages: protobuf, mysql-connector-python\n",
      "Successfully installed mysql-connector-python-8.1.0 protobuf-4.21.12\n",
      "Note: you may need to restart the kernel to use updated packages.\n"
     ]
    },
    {
     "name": "stderr",
     "output_type": "stream",
     "text": [
      "\n",
      "[notice] A new release of pip is available: 23.1.2 -> 23.2.1\n",
      "[notice] To update, run: C:\\Users\\NITRO\\AppData\\Local\\Microsoft\\WindowsApps\\PythonSoftwareFoundation.Python.3.11_qbz5n2kfra8p0\\python.exe -m pip install --upgrade pip\n"
     ]
    }
   ],
   "source": [
    "pip install mysql-connector-python"
   ]
  },
  {
   "cell_type": "code",
   "execution_count": 2,
   "metadata": {},
   "outputs": [
    {
     "name": "stdout",
     "output_type": "stream",
     "text": [
      "Requirement already satisfied: pandas in c:\\users\\nitro\\appdata\\local\\packages\\pythonsoftwarefoundation.python.3.11_qbz5n2kfra8p0\\localcache\\local-packages\\python311\\site-packages (2.0.3)\n",
      "Requirement already satisfied: python-dateutil>=2.8.2 in c:\\users\\nitro\\appdata\\local\\packages\\pythonsoftwarefoundation.python.3.11_qbz5n2kfra8p0\\localcache\\local-packages\\python311\\site-packages (from pandas) (2.8.2)\n",
      "Requirement already satisfied: pytz>=2020.1 in c:\\users\\nitro\\appdata\\local\\packages\\pythonsoftwarefoundation.python.3.11_qbz5n2kfra8p0\\localcache\\local-packages\\python311\\site-packages (from pandas) (2023.3)\n",
      "Requirement already satisfied: tzdata>=2022.1 in c:\\users\\nitro\\appdata\\local\\packages\\pythonsoftwarefoundation.python.3.11_qbz5n2kfra8p0\\localcache\\local-packages\\python311\\site-packages (from pandas) (2023.3)\n",
      "Requirement already satisfied: numpy>=1.21.0 in c:\\users\\nitro\\appdata\\local\\packages\\pythonsoftwarefoundation.python.3.11_qbz5n2kfra8p0\\localcache\\local-packages\\python311\\site-packages (from pandas) (1.25.0)\n",
      "Requirement already satisfied: six>=1.5 in c:\\users\\nitro\\appdata\\local\\packages\\pythonsoftwarefoundation.python.3.11_qbz5n2kfra8p0\\localcache\\local-packages\\python311\\site-packages (from python-dateutil>=2.8.2->pandas) (1.16.0)\n",
      "Note: you may need to restart the kernel to use updated packages.\n"
     ]
    },
    {
     "name": "stderr",
     "output_type": "stream",
     "text": [
      "\n",
      "[notice] A new release of pip is available: 23.1.2 -> 23.2.1\n",
      "[notice] To update, run: C:\\Users\\NITRO\\AppData\\Local\\Microsoft\\WindowsApps\\PythonSoftwareFoundation.Python.3.11_qbz5n2kfra8p0\\python.exe -m pip install --upgrade pip\n"
     ]
    }
   ],
   "source": [
    "pip install pandas"
   ]
  },
  {
   "cell_type": "code",
   "execution_count": 6,
   "metadata": {},
   "outputs": [
    {
     "name": "stdout",
     "output_type": "stream",
     "text": [
      "Error en la conexión o carga de datos: 2003: Can't connect to MySQL server on '%-.100s:%u' (%s) (Warning: %u format: a real number is required, not str)\n"
     ]
    }
   ],
   "source": [
    "import mysql.connector\n",
    "import pandas as pd\n",
    "\n",
    "def create_database_with_table(database_name, table_name, json_file_path):\n",
    "    try:\n",
    "        # Configurar la conexión a MySQL\n",
    "        conn = mysql.connector.connect(\n",
    "            host='base1',\n",
    "            user='root',\n",
    "            password='',\n",
    "        )\n",
    "\n",
    "        # Crear un cursor para ejecutar consultas\n",
    "        cursor = conn.cursor()\n",
    "\n",
    "        # Crear una nueva base de datos\n",
    "        cursor.execute(f'CREATE DATABASE {database_name};')\n",
    "\n",
    "        # Seleccionar la nueva base de datos\n",
    "        cursor.execute(f'USE {database_name};')\n",
    "\n",
    "        # Solicitar al usuario la ruta del archivo JSON\n",
    "        json_file_path = input(r\"C:\\Users\\NITRO\\Desktop\\PASO EXTRA ANALISIS\\Archivos JSON\\BF_Concert_2019-2020.json\")\n",
    "\n",
    "        # Leer el archivo JSON utilizando pandas\n",
    "        df = pd.read_json(json_file_path)\n",
    "\n",
    "        # Crear una tabla y cargar los datos del DataFrame\n",
    "        df.to_sql(table_name, conn, index=False, if_exists='replace')\n",
    "\n",
    "        # Cerrar la conexión\n",
    "        conn.close()\n",
    "\n",
    "        print(f'La base de datos \"{database_name}\" ha sido creada y el archivo JSON ha sido subido a la tabla \"{table_name}\".')\n",
    "\n",
    "    except Exception as e:\n",
    "        print(\"Error en la conexión o carga de datos:\", e)\n",
    "\n",
    "if __name__ == \"__main__\":\n",
    "    # Nombre de la nueva base de datos a crear\n",
    "    new_database_name = 'Concierto'\n",
    "\n",
    "    # Nombre de la tabla donde se subirá el archivo JSON\n",
    "    table_name = 'concierto-tabla'\n",
    "\n",
    "    # Ruta del archivo JSON que se cargará en la tabla\n",
    "    json_file_path = r'C:\\Users\\NITRO\\Desktop\\PASO EXTRA ANALISIS\\Archivos JSON\\BF_Concert_2019-2020.json'\n",
    "\n",
    "    create_database_with_table(new_database_name, table_name, json_file_path)\n"
   ]
  },
  {
   "cell_type": "code",
   "execution_count": null,
   "metadata": {},
   "outputs": [],
   "source": []
  }
 ],
 "metadata": {
  "kernelspec": {
   "display_name": "Python 3",
   "language": "python",
   "name": "python3"
  },
  "language_info": {
   "codemirror_mode": {
    "name": "ipython",
    "version": 3
   },
   "file_extension": ".py",
   "mimetype": "text/x-python",
   "name": "python",
   "nbconvert_exporter": "python",
   "pygments_lexer": "ipython3",
   "version": "3.11.4"
  },
  "orig_nbformat": 4
 },
 "nbformat": 4,
 "nbformat_minor": 2
}
